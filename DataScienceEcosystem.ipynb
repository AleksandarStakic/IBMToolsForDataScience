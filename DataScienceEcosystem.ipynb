{
 "cells": [
  {
   "cell_type": "markdown",
   "id": "898962e2-7292-431c-b0ca-336e8f122de0",
   "metadata": {},
   "source": [
    "# Data Science Tools and Ecosystem\n"
   ]
  },
  {
   "cell_type": "markdown",
   "id": "67d9f2ea-3560-4b33-bf0e-ce5039dbbc25",
   "metadata": {},
   "source": [
    "In this notebook, Data Science Tools and Ecosystem are summarized.\n"
   ]
  },
  {
   "cell_type": "markdown",
   "id": "9591186c-b70c-4b59-abf8-e089598a553f",
   "metadata": {},
   "source": [
    "**Objectives:**\n",
    "- List popular languages for Data Science\n",
    "- List commonly used libraries used by Data Scientists\n",
    "- Make a single column table that shows some data science tools \n",
    "- Write a code that calculates given simple arithmetic expression\n",
    "- Write a code that converts 200 minutes into hours "
   ]
  },
  {
   "cell_type": "markdown",
   "id": "b2f9d766-eae7-487a-a1e0-f43193601c74",
   "metadata": {},
   "source": [
    "Some of the popular languages that Data Scientists use are:\n",
    "1. Python\n",
    "2. R\n",
    "3. SQL\n",
    "4. Scala\n",
    "5. c++"
   ]
  },
  {
   "cell_type": "markdown",
   "id": "cb610043-1653-4aff-922c-49d5e6feb66e",
   "metadata": {},
   "source": [
    "Some of the commonly used libraries used by Data Scientists include:\n",
    "1. Pandas\n",
    "2. Numpy\n",
    "3. Matplotlib\n",
    "4. TensorFlow \n",
    "5. ggplot2\n"
   ]
  },
  {
   "cell_type": "markdown",
   "id": "b113bebd-5551-4f2c-8b3e-e9354ace0234",
   "metadata": {},
   "source": [
    "|Data Science Tools|\n",
    "--------------------\n",
    "|Jupyter Notebook|\n",
    "|RStudio|\n",
    "|Git Hub|"
   ]
  },
  {
   "cell_type": "markdown",
   "id": "3f1a4555-8fd9-4ff7-8280-b8725c4afc25",
   "metadata": {},
   "source": [
    "### Below are a few examples of evaluating arithmetic expressions in Python.\n"
   ]
  },
  {
   "cell_type": "code",
   "execution_count": 1,
   "id": "0589d015-f6f0-4ffc-85d2-eddf15bc226d",
   "metadata": {
    "tags": []
   },
   "outputs": [
    {
     "data": {
      "text/plain": [
       "17"
      ]
     },
     "execution_count": 1,
     "metadata": {},
     "output_type": "execute_result"
    }
   ],
   "source": [
    "# This a simple arithmetic expression to mutiply then add integers.\n",
    "\n",
    "(3*4)+5\n"
   ]
  },
  {
   "cell_type": "code",
   "execution_count": 2,
   "id": "410bb628-5a2c-47aa-824a-3c3cb52c8eaa",
   "metadata": {
    "tags": []
   },
   "outputs": [
    {
     "data": {
      "text/plain": [
       "3.3333333333333335"
      ]
     },
     "execution_count": 2,
     "metadata": {},
     "output_type": "execute_result"
    }
   ],
   "source": [
    "# This will convert 200 minutes to hours by diving by 60\n",
    "\n",
    "200/60 "
   ]
  },
  {
   "cell_type": "markdown",
   "id": "a0bdc370-a8df-4207-b026-6d91e7ef8104",
   "metadata": {},
   "source": [
    "## Author\n",
    "Aleksandar Stakić "
   ]
  },
  {
   "cell_type": "code",
   "execution_count": null,
   "id": "a1fa3871-ca70-4c4e-8fa8-9d21ffd42496",
   "metadata": {},
   "outputs": [],
   "source": []
  }
 ],
 "metadata": {
  "kernelspec": {
   "display_name": "Python 3 (ipykernel)",
   "language": "python",
   "name": "python3"
  },
  "language_info": {
   "codemirror_mode": {
    "name": "ipython",
    "version": 3
   },
   "file_extension": ".py",
   "mimetype": "text/x-python",
   "name": "python",
   "nbconvert_exporter": "python",
   "pygments_lexer": "ipython3",
   "version": "3.11.5"
  }
 },
 "nbformat": 4,
 "nbformat_minor": 5
}
